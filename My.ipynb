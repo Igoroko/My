{
 "cells": [
  {
   "cell_type": "code",
   "execution_count": 1,
   "metadata": {},
   "outputs": [
    {
     "name": "stdout",
     "output_type": "stream",
     "text": [
      "5\n",
      "1 23 65 99 87 41 43 39\n",
      "[39, 87, 99, 1, 23, 41, 43, 65]\n"
     ]
    }
   ],
   "source": [
    "#Рабочий варик\n",
    "import random\n",
    "#A=[8, 7, 2, 3, 4, 1, 11, 10, 8, 23, 15, 6, 90, 14, 33]\n",
    "N = int (input ())\n",
    "N = list (map (int, input().split()))            \n",
    "def QuickSort(N):\n",
    "    if len(N) <= 2 or len(N) >= 10000:\n",
    "        return N\n",
    "    else:\n",
    "        q = random.choice(N)\n",
    "        L = []\n",
    "        M = []\n",
    "        R = []\n",
    "        Z = []\n",
    "        for elem in N:\n",
    "            if elem < q and elem%3 != 0:\n",
    "                L.append(elem)\n",
    "            elif elem > q and elem%3 != 0:\n",
    "                R.append(elem)\n",
    "            elif elem == q and elem%3 != 0:\n",
    "                M.append(elem)\n",
    "            else:\n",
    "                Z.append(elem)\n",
    "        return  sorted(Z) + QuickSort(L) + M + QuickSort(R)\n",
    "\n",
    "print (QuickSort(N))"
   ]
  },
  {
   "cell_type": "code",
   "execution_count": 2,
   "metadata": {},
   "outputs": [
    {
     "name": "stdout",
     "output_type": "stream",
     "text": [
      "5\n",
      "1 2 9 6 3\n",
      "[9]\n"
     ]
    }
   ],
   "source": [
    "#:(\n",
    "import random\n",
    "#A=[8, 7, 2, 3, 4, 1, 11, 10, 8, 23, 15, 6, 90, 14, 33]\n",
    "A1 = int (input ())\n",
    "A = list (map (int, input().split()))          \n",
    "def QuickSort(A):\n",
    "    if len(A) <= 1:\n",
    "        return A\n",
    "    else:\n",
    "        q = random.choice(A)\n",
    "        L = []\n",
    "        M = []\n",
    "        R = []\n",
    "        Z = []\n",
    "        for elem in A:\n",
    "            if elem < q and elem%3 != 0:\n",
    "                L.append(elem)\n",
    "            elif elem > q and elem%3 != 0:\n",
    "                R.append(elem)\n",
    "            elif elem == q and elem%3 != 0:\n",
    "                M.append(elem)\n",
    "            else:\n",
    "                Z.append(elem)\n",
    "                q1 = random.choice(Z)\n",
    "                Q = []\n",
    "                W = []\n",
    "                E = []\n",
    "                for elem in Z:\n",
    "                    if elem < q1:\n",
    "                        Q.append(elem)\n",
    "                    elif elem > q1:\n",
    "                        W.append(elem)\n",
    "                    else:\n",
    "                        E.append(elem)\n",
    "                return  QuickSort(Q) + W + QuickSort(E)\n",
    "        return QuickSort(L) + M + QuickSort(R)\n",
    "print (QuickSort(A))"
   ]
  },
  {
   "cell_type": "code",
   "execution_count": null,
   "metadata": {},
   "outputs": [],
   "source": []
  }
 ],
 "metadata": {
  "kernelspec": {
   "display_name": "Python 3",
   "language": "python",
   "name": "python3"
  },
  "language_info": {
   "codemirror_mode": {
    "name": "ipython",
    "version": 3
   },
   "file_extension": ".py",
   "mimetype": "text/x-python",
   "name": "python",
   "nbconvert_exporter": "python",
   "pygments_lexer": "ipython3",
   "version": "3.7.3"
  }
 },
 "nbformat": 4,
 "nbformat_minor": 2
}
