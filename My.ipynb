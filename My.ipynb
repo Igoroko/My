{
 "cells": [
  {
   "cell_type": "code",
   "execution_count": 1,
   "metadata": {},
   "outputs": [
    {
     "name": "stdout",
     "output_type": "stream",
     "text": [
      "5\n",
      "1 23 65 99 87 41 43 39\n",
      "[39, 87, 99, 1, 23, 41, 43, 65]\n"
     ]
    }
   ],
   "source": [
    "#Рабочий варик\n",
    "import random\n",
    
    "N = int (input ())\n",
    "N = list (map (int, input().split()))            \n",
    "def QuickSort(N):\n",
    "    if len(N) <= 2 or len(N) >= 10000:\n",
    "        return N\n",
    "    else:\n",
    "        q = random.choice(N)\n",
    "        L = []\n",
    "        M = []\n",
    "        R = []\n",
    "        Z = []\n",
    "        for elem in N:\n",
    "            if elem < q and elem%3 != 0:\n",
    "                L.append(elem)\n",
    "            elif elem > q and elem%3 != 0:\n",
    "                R.append(elem)\n",
    "            elif elem == q and elem%3 != 0:\n",
    "                M.append(elem)\n",
    "            else:\n",
    "                Z.append(elem)\n",
    "        return  sorted(Z) + QuickSort(L) + M + QuickSort(R)\n",
    "\n",
    "print (QuickSort(N))"
   ]
  },
  {
   "cell_type": "code",
   "execution_count": 2,
   "metadata": {},
   "outputs": [
    {
     "name": "stdout",
     "output_type": "stream",
     "text": [
      "5\n",
      "1 2 9 6 3\n",
      "[9]\n"
     ]
    }
   ],
   
